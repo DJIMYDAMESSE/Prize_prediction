{
 "cells": [
  {
   "cell_type": "markdown",
   "id": "00cdccf8",
   "metadata": {},
   "source": [
    "# Devoir de Deep learning sur Boston House"
   ]
  },
  {
   "cell_type": "markdown",
   "id": "c1b5105e",
   "metadata": {},
   "source": [
    " # NANKENG DJIMY DAMESSE HN L3- DS MATRICULE 20P047"
   ]
  },
  {
   "cell_type": "markdown",
   "id": "8fd10b70",
   "metadata": {},
   "source": [
    "# Importation de toutes les Bibliotheques et du dataset"
   ]
  },
  {
   "cell_type": "code",
   "execution_count": 6,
   "id": "fdf478b6",
   "metadata": {},
   "outputs": [],
   "source": [
    "import numpy as np\n",
    "import pandas as pd\n",
    "from sklearn.datasets import load_boston \n",
    "import seaborn as sns\n",
    "import matplotlib.pyplot as plt\n",
    "from sklearn.model_selection import train_test_split\n",
    "from sklearn.linear_model import LinearRegression\n",
    "from sklearn.metrics import mean_squared_error\n",
    "boston = load_boston()"
   ]
  },
  {
   "cell_type": "markdown",
   "id": "7e29677b",
   "metadata": {},
   "source": [
    "# Convertion des données en dataframe"
   ]
  },
  {
   "cell_type": "code",
   "execution_count": 105,
   "id": "77dbfe41",
   "metadata": {},
   "outputs": [
    {
     "data": {
      "text/html": [
       "<div>\n",
       "<style scoped>\n",
       "    .dataframe tbody tr th:only-of-type {\n",
       "        vertical-align: middle;\n",
       "    }\n",
       "\n",
       "    .dataframe tbody tr th {\n",
       "        vertical-align: top;\n",
       "    }\n",
       "\n",
       "    .dataframe thead th {\n",
       "        text-align: right;\n",
       "    }\n",
       "</style>\n",
       "<table border=\"1\" class=\"dataframe\">\n",
       "  <thead>\n",
       "    <tr style=\"text-align: right;\">\n",
       "      <th></th>\n",
       "      <th>0</th>\n",
       "      <th>1</th>\n",
       "      <th>2</th>\n",
       "      <th>3</th>\n",
       "      <th>4</th>\n",
       "      <th>5</th>\n",
       "      <th>6</th>\n",
       "      <th>7</th>\n",
       "      <th>8</th>\n",
       "      <th>9</th>\n",
       "      <th>10</th>\n",
       "      <th>11</th>\n",
       "      <th>12</th>\n",
       "    </tr>\n",
       "  </thead>\n",
       "  <tbody>\n",
       "    <tr>\n",
       "      <th>0</th>\n",
       "      <td>0.00632</td>\n",
       "      <td>18.0</td>\n",
       "      <td>2.31</td>\n",
       "      <td>0.0</td>\n",
       "      <td>0.538</td>\n",
       "      <td>6.575</td>\n",
       "      <td>65.2</td>\n",
       "      <td>4.0900</td>\n",
       "      <td>1.0</td>\n",
       "      <td>296.0</td>\n",
       "      <td>15.3</td>\n",
       "      <td>396.90</td>\n",
       "      <td>4.98</td>\n",
       "    </tr>\n",
       "    <tr>\n",
       "      <th>1</th>\n",
       "      <td>0.02731</td>\n",
       "      <td>0.0</td>\n",
       "      <td>7.07</td>\n",
       "      <td>0.0</td>\n",
       "      <td>0.469</td>\n",
       "      <td>6.421</td>\n",
       "      <td>78.9</td>\n",
       "      <td>4.9671</td>\n",
       "      <td>2.0</td>\n",
       "      <td>242.0</td>\n",
       "      <td>17.8</td>\n",
       "      <td>396.90</td>\n",
       "      <td>9.14</td>\n",
       "    </tr>\n",
       "    <tr>\n",
       "      <th>2</th>\n",
       "      <td>0.02729</td>\n",
       "      <td>0.0</td>\n",
       "      <td>7.07</td>\n",
       "      <td>0.0</td>\n",
       "      <td>0.469</td>\n",
       "      <td>7.185</td>\n",
       "      <td>61.1</td>\n",
       "      <td>4.9671</td>\n",
       "      <td>2.0</td>\n",
       "      <td>242.0</td>\n",
       "      <td>17.8</td>\n",
       "      <td>392.83</td>\n",
       "      <td>4.03</td>\n",
       "    </tr>\n",
       "    <tr>\n",
       "      <th>3</th>\n",
       "      <td>0.03237</td>\n",
       "      <td>0.0</td>\n",
       "      <td>2.18</td>\n",
       "      <td>0.0</td>\n",
       "      <td>0.458</td>\n",
       "      <td>6.998</td>\n",
       "      <td>45.8</td>\n",
       "      <td>6.0622</td>\n",
       "      <td>3.0</td>\n",
       "      <td>222.0</td>\n",
       "      <td>18.7</td>\n",
       "      <td>394.63</td>\n",
       "      <td>2.94</td>\n",
       "    </tr>\n",
       "    <tr>\n",
       "      <th>4</th>\n",
       "      <td>0.06905</td>\n",
       "      <td>0.0</td>\n",
       "      <td>2.18</td>\n",
       "      <td>0.0</td>\n",
       "      <td>0.458</td>\n",
       "      <td>7.147</td>\n",
       "      <td>54.2</td>\n",
       "      <td>6.0622</td>\n",
       "      <td>3.0</td>\n",
       "      <td>222.0</td>\n",
       "      <td>18.7</td>\n",
       "      <td>396.90</td>\n",
       "      <td>5.33</td>\n",
       "    </tr>\n",
       "    <tr>\n",
       "      <th>...</th>\n",
       "      <td>...</td>\n",
       "      <td>...</td>\n",
       "      <td>...</td>\n",
       "      <td>...</td>\n",
       "      <td>...</td>\n",
       "      <td>...</td>\n",
       "      <td>...</td>\n",
       "      <td>...</td>\n",
       "      <td>...</td>\n",
       "      <td>...</td>\n",
       "      <td>...</td>\n",
       "      <td>...</td>\n",
       "      <td>...</td>\n",
       "    </tr>\n",
       "    <tr>\n",
       "      <th>501</th>\n",
       "      <td>0.06263</td>\n",
       "      <td>0.0</td>\n",
       "      <td>11.93</td>\n",
       "      <td>0.0</td>\n",
       "      <td>0.573</td>\n",
       "      <td>6.593</td>\n",
       "      <td>69.1</td>\n",
       "      <td>2.4786</td>\n",
       "      <td>1.0</td>\n",
       "      <td>273.0</td>\n",
       "      <td>21.0</td>\n",
       "      <td>391.99</td>\n",
       "      <td>9.67</td>\n",
       "    </tr>\n",
       "    <tr>\n",
       "      <th>502</th>\n",
       "      <td>0.04527</td>\n",
       "      <td>0.0</td>\n",
       "      <td>11.93</td>\n",
       "      <td>0.0</td>\n",
       "      <td>0.573</td>\n",
       "      <td>6.120</td>\n",
       "      <td>76.7</td>\n",
       "      <td>2.2875</td>\n",
       "      <td>1.0</td>\n",
       "      <td>273.0</td>\n",
       "      <td>21.0</td>\n",
       "      <td>396.90</td>\n",
       "      <td>9.08</td>\n",
       "    </tr>\n",
       "    <tr>\n",
       "      <th>503</th>\n",
       "      <td>0.06076</td>\n",
       "      <td>0.0</td>\n",
       "      <td>11.93</td>\n",
       "      <td>0.0</td>\n",
       "      <td>0.573</td>\n",
       "      <td>6.976</td>\n",
       "      <td>91.0</td>\n",
       "      <td>2.1675</td>\n",
       "      <td>1.0</td>\n",
       "      <td>273.0</td>\n",
       "      <td>21.0</td>\n",
       "      <td>396.90</td>\n",
       "      <td>5.64</td>\n",
       "    </tr>\n",
       "    <tr>\n",
       "      <th>504</th>\n",
       "      <td>0.10959</td>\n",
       "      <td>0.0</td>\n",
       "      <td>11.93</td>\n",
       "      <td>0.0</td>\n",
       "      <td>0.573</td>\n",
       "      <td>6.794</td>\n",
       "      <td>89.3</td>\n",
       "      <td>2.3889</td>\n",
       "      <td>1.0</td>\n",
       "      <td>273.0</td>\n",
       "      <td>21.0</td>\n",
       "      <td>393.45</td>\n",
       "      <td>6.48</td>\n",
       "    </tr>\n",
       "    <tr>\n",
       "      <th>505</th>\n",
       "      <td>0.04741</td>\n",
       "      <td>0.0</td>\n",
       "      <td>11.93</td>\n",
       "      <td>0.0</td>\n",
       "      <td>0.573</td>\n",
       "      <td>6.030</td>\n",
       "      <td>80.8</td>\n",
       "      <td>2.5050</td>\n",
       "      <td>1.0</td>\n",
       "      <td>273.0</td>\n",
       "      <td>21.0</td>\n",
       "      <td>396.90</td>\n",
       "      <td>7.88</td>\n",
       "    </tr>\n",
       "  </tbody>\n",
       "</table>\n",
       "<p>506 rows × 13 columns</p>\n",
       "</div>"
      ],
      "text/plain": [
       "          0     1      2    3      4      5     6       7    8      9     10  \\\n",
       "0    0.00632  18.0   2.31  0.0  0.538  6.575  65.2  4.0900  1.0  296.0  15.3   \n",
       "1    0.02731   0.0   7.07  0.0  0.469  6.421  78.9  4.9671  2.0  242.0  17.8   \n",
       "2    0.02729   0.0   7.07  0.0  0.469  7.185  61.1  4.9671  2.0  242.0  17.8   \n",
       "3    0.03237   0.0   2.18  0.0  0.458  6.998  45.8  6.0622  3.0  222.0  18.7   \n",
       "4    0.06905   0.0   2.18  0.0  0.458  7.147  54.2  6.0622  3.0  222.0  18.7   \n",
       "..       ...   ...    ...  ...    ...    ...   ...     ...  ...    ...   ...   \n",
       "501  0.06263   0.0  11.93  0.0  0.573  6.593  69.1  2.4786  1.0  273.0  21.0   \n",
       "502  0.04527   0.0  11.93  0.0  0.573  6.120  76.7  2.2875  1.0  273.0  21.0   \n",
       "503  0.06076   0.0  11.93  0.0  0.573  6.976  91.0  2.1675  1.0  273.0  21.0   \n",
       "504  0.10959   0.0  11.93  0.0  0.573  6.794  89.3  2.3889  1.0  273.0  21.0   \n",
       "505  0.04741   0.0  11.93  0.0  0.573  6.030  80.8  2.5050  1.0  273.0  21.0   \n",
       "\n",
       "         11    12  \n",
       "0    396.90  4.98  \n",
       "1    396.90  9.14  \n",
       "2    392.83  4.03  \n",
       "3    394.63  2.94  \n",
       "4    396.90  5.33  \n",
       "..      ...   ...  \n",
       "501  391.99  9.67  \n",
       "502  396.90  9.08  \n",
       "503  396.90  5.64  \n",
       "504  393.45  6.48  \n",
       "505  396.90  7.88  \n",
       "\n",
       "[506 rows x 13 columns]"
      ]
     },
     "execution_count": 105,
     "metadata": {},
     "output_type": "execute_result"
    }
   ],
   "source": [
    "data = pd.DataFrame(boston.data)\n",
    "data"
   ]
  },
  {
   "cell_type": "markdown",
   "id": "c0887157",
   "metadata": {},
   "source": [
    "# Visualisation des 4 premieres lignes"
   ]
  },
  {
   "cell_type": "code",
   "execution_count": 106,
   "id": "352e9358",
   "metadata": {},
   "outputs": [
    {
     "data": {
      "text/html": [
       "<div>\n",
       "<style scoped>\n",
       "    .dataframe tbody tr th:only-of-type {\n",
       "        vertical-align: middle;\n",
       "    }\n",
       "\n",
       "    .dataframe tbody tr th {\n",
       "        vertical-align: top;\n",
       "    }\n",
       "\n",
       "    .dataframe thead th {\n",
       "        text-align: right;\n",
       "    }\n",
       "</style>\n",
       "<table border=\"1\" class=\"dataframe\">\n",
       "  <thead>\n",
       "    <tr style=\"text-align: right;\">\n",
       "      <th></th>\n",
       "      <th>0</th>\n",
       "      <th>1</th>\n",
       "      <th>2</th>\n",
       "      <th>3</th>\n",
       "      <th>4</th>\n",
       "      <th>5</th>\n",
       "      <th>6</th>\n",
       "      <th>7</th>\n",
       "      <th>8</th>\n",
       "      <th>9</th>\n",
       "      <th>10</th>\n",
       "      <th>11</th>\n",
       "      <th>12</th>\n",
       "    </tr>\n",
       "  </thead>\n",
       "  <tbody>\n",
       "    <tr>\n",
       "      <th>0</th>\n",
       "      <td>0.00632</td>\n",
       "      <td>18.0</td>\n",
       "      <td>2.31</td>\n",
       "      <td>0.0</td>\n",
       "      <td>0.538</td>\n",
       "      <td>6.575</td>\n",
       "      <td>65.2</td>\n",
       "      <td>4.0900</td>\n",
       "      <td>1.0</td>\n",
       "      <td>296.0</td>\n",
       "      <td>15.3</td>\n",
       "      <td>396.90</td>\n",
       "      <td>4.98</td>\n",
       "    </tr>\n",
       "    <tr>\n",
       "      <th>1</th>\n",
       "      <td>0.02731</td>\n",
       "      <td>0.0</td>\n",
       "      <td>7.07</td>\n",
       "      <td>0.0</td>\n",
       "      <td>0.469</td>\n",
       "      <td>6.421</td>\n",
       "      <td>78.9</td>\n",
       "      <td>4.9671</td>\n",
       "      <td>2.0</td>\n",
       "      <td>242.0</td>\n",
       "      <td>17.8</td>\n",
       "      <td>396.90</td>\n",
       "      <td>9.14</td>\n",
       "    </tr>\n",
       "    <tr>\n",
       "      <th>2</th>\n",
       "      <td>0.02729</td>\n",
       "      <td>0.0</td>\n",
       "      <td>7.07</td>\n",
       "      <td>0.0</td>\n",
       "      <td>0.469</td>\n",
       "      <td>7.185</td>\n",
       "      <td>61.1</td>\n",
       "      <td>4.9671</td>\n",
       "      <td>2.0</td>\n",
       "      <td>242.0</td>\n",
       "      <td>17.8</td>\n",
       "      <td>392.83</td>\n",
       "      <td>4.03</td>\n",
       "    </tr>\n",
       "    <tr>\n",
       "      <th>3</th>\n",
       "      <td>0.03237</td>\n",
       "      <td>0.0</td>\n",
       "      <td>2.18</td>\n",
       "      <td>0.0</td>\n",
       "      <td>0.458</td>\n",
       "      <td>6.998</td>\n",
       "      <td>45.8</td>\n",
       "      <td>6.0622</td>\n",
       "      <td>3.0</td>\n",
       "      <td>222.0</td>\n",
       "      <td>18.7</td>\n",
       "      <td>394.63</td>\n",
       "      <td>2.94</td>\n",
       "    </tr>\n",
       "    <tr>\n",
       "      <th>4</th>\n",
       "      <td>0.06905</td>\n",
       "      <td>0.0</td>\n",
       "      <td>2.18</td>\n",
       "      <td>0.0</td>\n",
       "      <td>0.458</td>\n",
       "      <td>7.147</td>\n",
       "      <td>54.2</td>\n",
       "      <td>6.0622</td>\n",
       "      <td>3.0</td>\n",
       "      <td>222.0</td>\n",
       "      <td>18.7</td>\n",
       "      <td>396.90</td>\n",
       "      <td>5.33</td>\n",
       "    </tr>\n",
       "  </tbody>\n",
       "</table>\n",
       "</div>"
      ],
      "text/plain": [
       "        0     1     2    3      4      5     6       7    8      9     10  \\\n",
       "0  0.00632  18.0  2.31  0.0  0.538  6.575  65.2  4.0900  1.0  296.0  15.3   \n",
       "1  0.02731   0.0  7.07  0.0  0.469  6.421  78.9  4.9671  2.0  242.0  17.8   \n",
       "2  0.02729   0.0  7.07  0.0  0.469  7.185  61.1  4.9671  2.0  242.0  17.8   \n",
       "3  0.03237   0.0  2.18  0.0  0.458  6.998  45.8  6.0622  3.0  222.0  18.7   \n",
       "4  0.06905   0.0  2.18  0.0  0.458  7.147  54.2  6.0622  3.0  222.0  18.7   \n",
       "\n",
       "       11    12  \n",
       "0  396.90  4.98  \n",
       "1  396.90  9.14  \n",
       "2  392.83  4.03  \n",
       "3  394.63  2.94  \n",
       "4  396.90  5.33  "
      ]
     },
     "execution_count": 106,
     "metadata": {},
     "output_type": "execute_result"
    }
   ],
   "source": [
    "data.head()"
   ]
  },
  {
   "cell_type": "markdown",
   "id": "e6ff21cf",
   "metadata": {},
   "source": [
    "# Creation de la variable feature"
   ]
  },
  {
   "cell_type": "code",
   "execution_count": 107,
   "id": "5946f529",
   "metadata": {},
   "outputs": [],
   "source": [
    "data.columns = boston.feature_names"
   ]
  },
  {
   "cell_type": "markdown",
   "id": "fa251692",
   "metadata": {},
   "source": [
    "# Creation de la variable Target qui sera PRICE"
   ]
  },
  {
   "cell_type": "code",
   "execution_count": 108,
   "id": "0ea076c2",
   "metadata": {},
   "outputs": [],
   "source": [
    "data['PRICE'] = boston.target"
   ]
  },
  {
   "cell_type": "markdown",
   "id": "ac37afa3",
   "metadata": {},
   "source": [
    "# Visualisation de la variable PRICE"
   ]
  },
  {
   "cell_type": "code",
   "execution_count": 109,
   "id": "41b5b6c4",
   "metadata": {},
   "outputs": [
    {
     "data": {
      "text/html": [
       "<div>\n",
       "<style scoped>\n",
       "    .dataframe tbody tr th:only-of-type {\n",
       "        vertical-align: middle;\n",
       "    }\n",
       "\n",
       "    .dataframe tbody tr th {\n",
       "        vertical-align: top;\n",
       "    }\n",
       "\n",
       "    .dataframe thead th {\n",
       "        text-align: right;\n",
       "    }\n",
       "</style>\n",
       "<table border=\"1\" class=\"dataframe\">\n",
       "  <thead>\n",
       "    <tr style=\"text-align: right;\">\n",
       "      <th></th>\n",
       "      <th>CRIM</th>\n",
       "      <th>ZN</th>\n",
       "      <th>INDUS</th>\n",
       "      <th>CHAS</th>\n",
       "      <th>NOX</th>\n",
       "      <th>RM</th>\n",
       "      <th>AGE</th>\n",
       "      <th>DIS</th>\n",
       "      <th>RAD</th>\n",
       "      <th>TAX</th>\n",
       "      <th>PTRATIO</th>\n",
       "      <th>B</th>\n",
       "      <th>LSTAT</th>\n",
       "      <th>PRICE</th>\n",
       "    </tr>\n",
       "  </thead>\n",
       "  <tbody>\n",
       "    <tr>\n",
       "      <th>0</th>\n",
       "      <td>0.00632</td>\n",
       "      <td>18.0</td>\n",
       "      <td>2.31</td>\n",
       "      <td>0.0</td>\n",
       "      <td>0.538</td>\n",
       "      <td>6.575</td>\n",
       "      <td>65.2</td>\n",
       "      <td>4.0900</td>\n",
       "      <td>1.0</td>\n",
       "      <td>296.0</td>\n",
       "      <td>15.3</td>\n",
       "      <td>396.90</td>\n",
       "      <td>4.98</td>\n",
       "      <td>24.0</td>\n",
       "    </tr>\n",
       "    <tr>\n",
       "      <th>1</th>\n",
       "      <td>0.02731</td>\n",
       "      <td>0.0</td>\n",
       "      <td>7.07</td>\n",
       "      <td>0.0</td>\n",
       "      <td>0.469</td>\n",
       "      <td>6.421</td>\n",
       "      <td>78.9</td>\n",
       "      <td>4.9671</td>\n",
       "      <td>2.0</td>\n",
       "      <td>242.0</td>\n",
       "      <td>17.8</td>\n",
       "      <td>396.90</td>\n",
       "      <td>9.14</td>\n",
       "      <td>21.6</td>\n",
       "    </tr>\n",
       "    <tr>\n",
       "      <th>2</th>\n",
       "      <td>0.02729</td>\n",
       "      <td>0.0</td>\n",
       "      <td>7.07</td>\n",
       "      <td>0.0</td>\n",
       "      <td>0.469</td>\n",
       "      <td>7.185</td>\n",
       "      <td>61.1</td>\n",
       "      <td>4.9671</td>\n",
       "      <td>2.0</td>\n",
       "      <td>242.0</td>\n",
       "      <td>17.8</td>\n",
       "      <td>392.83</td>\n",
       "      <td>4.03</td>\n",
       "      <td>34.7</td>\n",
       "    </tr>\n",
       "    <tr>\n",
       "      <th>3</th>\n",
       "      <td>0.03237</td>\n",
       "      <td>0.0</td>\n",
       "      <td>2.18</td>\n",
       "      <td>0.0</td>\n",
       "      <td>0.458</td>\n",
       "      <td>6.998</td>\n",
       "      <td>45.8</td>\n",
       "      <td>6.0622</td>\n",
       "      <td>3.0</td>\n",
       "      <td>222.0</td>\n",
       "      <td>18.7</td>\n",
       "      <td>394.63</td>\n",
       "      <td>2.94</td>\n",
       "      <td>33.4</td>\n",
       "    </tr>\n",
       "    <tr>\n",
       "      <th>4</th>\n",
       "      <td>0.06905</td>\n",
       "      <td>0.0</td>\n",
       "      <td>2.18</td>\n",
       "      <td>0.0</td>\n",
       "      <td>0.458</td>\n",
       "      <td>7.147</td>\n",
       "      <td>54.2</td>\n",
       "      <td>6.0622</td>\n",
       "      <td>3.0</td>\n",
       "      <td>222.0</td>\n",
       "      <td>18.7</td>\n",
       "      <td>396.90</td>\n",
       "      <td>5.33</td>\n",
       "      <td>36.2</td>\n",
       "    </tr>\n",
       "  </tbody>\n",
       "</table>\n",
       "</div>"
      ],
      "text/plain": [
       "      CRIM    ZN  INDUS  CHAS    NOX     RM   AGE     DIS  RAD    TAX  \\\n",
       "0  0.00632  18.0   2.31   0.0  0.538  6.575  65.2  4.0900  1.0  296.0   \n",
       "1  0.02731   0.0   7.07   0.0  0.469  6.421  78.9  4.9671  2.0  242.0   \n",
       "2  0.02729   0.0   7.07   0.0  0.469  7.185  61.1  4.9671  2.0  242.0   \n",
       "3  0.03237   0.0   2.18   0.0  0.458  6.998  45.8  6.0622  3.0  222.0   \n",
       "4  0.06905   0.0   2.18   0.0  0.458  7.147  54.2  6.0622  3.0  222.0   \n",
       "\n",
       "   PTRATIO       B  LSTAT  PRICE  \n",
       "0     15.3  396.90   4.98   24.0  \n",
       "1     17.8  396.90   9.14   21.6  \n",
       "2     17.8  392.83   4.03   34.7  \n",
       "3     18.7  394.63   2.94   33.4  \n",
       "4     18.7  396.90   5.33   36.2  "
      ]
     },
     "execution_count": 109,
     "metadata": {},
     "output_type": "execute_result"
    }
   ],
   "source": [
    "data.head()"
   ]
  },
  {
   "cell_type": "markdown",
   "id": "d5f0ec4b",
   "metadata": {},
   "source": [
    "# Dimension du Dataset"
   ]
  },
  {
   "cell_type": "code",
   "execution_count": 110,
   "id": "95ed33db",
   "metadata": {},
   "outputs": [
    {
     "name": "stdout",
     "output_type": "stream",
     "text": [
      "(506, 14)\n"
     ]
    }
   ],
   "source": [
    "print(data.shape)"
   ]
  },
  {
   "cell_type": "markdown",
   "id": "7640c37f",
   "metadata": {},
   "source": [
    "# Vérification si il ya les variables Nulles"
   ]
  },
  {
   "cell_type": "code",
   "execution_count": 111,
   "id": "90742211",
   "metadata": {},
   "outputs": [
    {
     "data": {
      "text/plain": [
       "CRIM       0\n",
       "ZN         0\n",
       "INDUS      0\n",
       "CHAS       0\n",
       "NOX        0\n",
       "RM         0\n",
       "AGE        0\n",
       "DIS        0\n",
       "RAD        0\n",
       "TAX        0\n",
       "PTRATIO    0\n",
       "B          0\n",
       "LSTAT      0\n",
       "PRICE      0\n",
       "dtype: int64"
      ]
     },
     "execution_count": 111,
     "metadata": {},
     "output_type": "execute_result"
    }
   ],
   "source": [
    "data.isnull().sum()"
   ]
  },
  {
   "cell_type": "markdown",
   "id": "c6b541fc",
   "metadata": {},
   "source": [
    "# Statistique sur les variables"
   ]
  },
  {
   "cell_type": "code",
   "execution_count": 112,
   "id": "ec8007c8",
   "metadata": {},
   "outputs": [
    {
     "data": {
      "text/html": [
       "<div>\n",
       "<style scoped>\n",
       "    .dataframe tbody tr th:only-of-type {\n",
       "        vertical-align: middle;\n",
       "    }\n",
       "\n",
       "    .dataframe tbody tr th {\n",
       "        vertical-align: top;\n",
       "    }\n",
       "\n",
       "    .dataframe thead th {\n",
       "        text-align: right;\n",
       "    }\n",
       "</style>\n",
       "<table border=\"1\" class=\"dataframe\">\n",
       "  <thead>\n",
       "    <tr style=\"text-align: right;\">\n",
       "      <th></th>\n",
       "      <th>CRIM</th>\n",
       "      <th>ZN</th>\n",
       "      <th>INDUS</th>\n",
       "      <th>CHAS</th>\n",
       "      <th>NOX</th>\n",
       "      <th>RM</th>\n",
       "      <th>AGE</th>\n",
       "      <th>DIS</th>\n",
       "      <th>RAD</th>\n",
       "      <th>TAX</th>\n",
       "      <th>PTRATIO</th>\n",
       "      <th>B</th>\n",
       "      <th>LSTAT</th>\n",
       "      <th>PRICE</th>\n",
       "    </tr>\n",
       "  </thead>\n",
       "  <tbody>\n",
       "    <tr>\n",
       "      <th>count</th>\n",
       "      <td>506.000000</td>\n",
       "      <td>506.000000</td>\n",
       "      <td>506.000000</td>\n",
       "      <td>506.000000</td>\n",
       "      <td>506.000000</td>\n",
       "      <td>506.000000</td>\n",
       "      <td>506.000000</td>\n",
       "      <td>506.000000</td>\n",
       "      <td>506.000000</td>\n",
       "      <td>506.000000</td>\n",
       "      <td>506.000000</td>\n",
       "      <td>506.000000</td>\n",
       "      <td>506.000000</td>\n",
       "      <td>506.000000</td>\n",
       "    </tr>\n",
       "    <tr>\n",
       "      <th>mean</th>\n",
       "      <td>3.613524</td>\n",
       "      <td>11.363636</td>\n",
       "      <td>11.136779</td>\n",
       "      <td>0.069170</td>\n",
       "      <td>0.554695</td>\n",
       "      <td>6.284634</td>\n",
       "      <td>68.574901</td>\n",
       "      <td>3.795043</td>\n",
       "      <td>9.549407</td>\n",
       "      <td>408.237154</td>\n",
       "      <td>18.455534</td>\n",
       "      <td>356.674032</td>\n",
       "      <td>12.653063</td>\n",
       "      <td>22.532806</td>\n",
       "    </tr>\n",
       "    <tr>\n",
       "      <th>std</th>\n",
       "      <td>8.601545</td>\n",
       "      <td>23.322453</td>\n",
       "      <td>6.860353</td>\n",
       "      <td>0.253994</td>\n",
       "      <td>0.115878</td>\n",
       "      <td>0.702617</td>\n",
       "      <td>28.148861</td>\n",
       "      <td>2.105710</td>\n",
       "      <td>8.707259</td>\n",
       "      <td>168.537116</td>\n",
       "      <td>2.164946</td>\n",
       "      <td>91.294864</td>\n",
       "      <td>7.141062</td>\n",
       "      <td>9.197104</td>\n",
       "    </tr>\n",
       "    <tr>\n",
       "      <th>min</th>\n",
       "      <td>0.006320</td>\n",
       "      <td>0.000000</td>\n",
       "      <td>0.460000</td>\n",
       "      <td>0.000000</td>\n",
       "      <td>0.385000</td>\n",
       "      <td>3.561000</td>\n",
       "      <td>2.900000</td>\n",
       "      <td>1.129600</td>\n",
       "      <td>1.000000</td>\n",
       "      <td>187.000000</td>\n",
       "      <td>12.600000</td>\n",
       "      <td>0.320000</td>\n",
       "      <td>1.730000</td>\n",
       "      <td>5.000000</td>\n",
       "    </tr>\n",
       "    <tr>\n",
       "      <th>25%</th>\n",
       "      <td>0.082045</td>\n",
       "      <td>0.000000</td>\n",
       "      <td>5.190000</td>\n",
       "      <td>0.000000</td>\n",
       "      <td>0.449000</td>\n",
       "      <td>5.885500</td>\n",
       "      <td>45.025000</td>\n",
       "      <td>2.100175</td>\n",
       "      <td>4.000000</td>\n",
       "      <td>279.000000</td>\n",
       "      <td>17.400000</td>\n",
       "      <td>375.377500</td>\n",
       "      <td>6.950000</td>\n",
       "      <td>17.025000</td>\n",
       "    </tr>\n",
       "    <tr>\n",
       "      <th>50%</th>\n",
       "      <td>0.256510</td>\n",
       "      <td>0.000000</td>\n",
       "      <td>9.690000</td>\n",
       "      <td>0.000000</td>\n",
       "      <td>0.538000</td>\n",
       "      <td>6.208500</td>\n",
       "      <td>77.500000</td>\n",
       "      <td>3.207450</td>\n",
       "      <td>5.000000</td>\n",
       "      <td>330.000000</td>\n",
       "      <td>19.050000</td>\n",
       "      <td>391.440000</td>\n",
       "      <td>11.360000</td>\n",
       "      <td>21.200000</td>\n",
       "    </tr>\n",
       "    <tr>\n",
       "      <th>75%</th>\n",
       "      <td>3.677083</td>\n",
       "      <td>12.500000</td>\n",
       "      <td>18.100000</td>\n",
       "      <td>0.000000</td>\n",
       "      <td>0.624000</td>\n",
       "      <td>6.623500</td>\n",
       "      <td>94.075000</td>\n",
       "      <td>5.188425</td>\n",
       "      <td>24.000000</td>\n",
       "      <td>666.000000</td>\n",
       "      <td>20.200000</td>\n",
       "      <td>396.225000</td>\n",
       "      <td>16.955000</td>\n",
       "      <td>25.000000</td>\n",
       "    </tr>\n",
       "    <tr>\n",
       "      <th>max</th>\n",
       "      <td>88.976200</td>\n",
       "      <td>100.000000</td>\n",
       "      <td>27.740000</td>\n",
       "      <td>1.000000</td>\n",
       "      <td>0.871000</td>\n",
       "      <td>8.780000</td>\n",
       "      <td>100.000000</td>\n",
       "      <td>12.126500</td>\n",
       "      <td>24.000000</td>\n",
       "      <td>711.000000</td>\n",
       "      <td>22.000000</td>\n",
       "      <td>396.900000</td>\n",
       "      <td>37.970000</td>\n",
       "      <td>50.000000</td>\n",
       "    </tr>\n",
       "  </tbody>\n",
       "</table>\n",
       "</div>"
      ],
      "text/plain": [
       "             CRIM          ZN       INDUS        CHAS         NOX          RM  \\\n",
       "count  506.000000  506.000000  506.000000  506.000000  506.000000  506.000000   \n",
       "mean     3.613524   11.363636   11.136779    0.069170    0.554695    6.284634   \n",
       "std      8.601545   23.322453    6.860353    0.253994    0.115878    0.702617   \n",
       "min      0.006320    0.000000    0.460000    0.000000    0.385000    3.561000   \n",
       "25%      0.082045    0.000000    5.190000    0.000000    0.449000    5.885500   \n",
       "50%      0.256510    0.000000    9.690000    0.000000    0.538000    6.208500   \n",
       "75%      3.677083   12.500000   18.100000    0.000000    0.624000    6.623500   \n",
       "max     88.976200  100.000000   27.740000    1.000000    0.871000    8.780000   \n",
       "\n",
       "              AGE         DIS         RAD         TAX     PTRATIO           B  \\\n",
       "count  506.000000  506.000000  506.000000  506.000000  506.000000  506.000000   \n",
       "mean    68.574901    3.795043    9.549407  408.237154   18.455534  356.674032   \n",
       "std     28.148861    2.105710    8.707259  168.537116    2.164946   91.294864   \n",
       "min      2.900000    1.129600    1.000000  187.000000   12.600000    0.320000   \n",
       "25%     45.025000    2.100175    4.000000  279.000000   17.400000  375.377500   \n",
       "50%     77.500000    3.207450    5.000000  330.000000   19.050000  391.440000   \n",
       "75%     94.075000    5.188425   24.000000  666.000000   20.200000  396.225000   \n",
       "max    100.000000   12.126500   24.000000  711.000000   22.000000  396.900000   \n",
       "\n",
       "            LSTAT       PRICE  \n",
       "count  506.000000  506.000000  \n",
       "mean    12.653063   22.532806  \n",
       "std      7.141062    9.197104  \n",
       "min      1.730000    5.000000  \n",
       "25%      6.950000   17.025000  \n",
       "50%     11.360000   21.200000  \n",
       "75%     16.955000   25.000000  \n",
       "max     37.970000   50.000000  "
      ]
     },
     "execution_count": 112,
     "metadata": {},
     "output_type": "execute_result"
    }
   ],
   "source": [
    "data.describe()"
   ]
  },
  {
   "cell_type": "markdown",
   "id": "552e00ec",
   "metadata": {},
   "source": [
    "# Types de données"
   ]
  },
  {
   "cell_type": "code",
   "execution_count": 113,
   "id": "1389df63",
   "metadata": {
    "scrolled": true
   },
   "outputs": [
    {
     "name": "stdout",
     "output_type": "stream",
     "text": [
      "<class 'pandas.core.frame.DataFrame'>\n",
      "RangeIndex: 506 entries, 0 to 505\n",
      "Data columns (total 14 columns):\n",
      " #   Column   Non-Null Count  Dtype  \n",
      "---  ------   --------------  -----  \n",
      " 0   CRIM     506 non-null    float64\n",
      " 1   ZN       506 non-null    float64\n",
      " 2   INDUS    506 non-null    float64\n",
      " 3   CHAS     506 non-null    float64\n",
      " 4   NOX      506 non-null    float64\n",
      " 5   RM       506 non-null    float64\n",
      " 6   AGE      506 non-null    float64\n",
      " 7   DIS      506 non-null    float64\n",
      " 8   RAD      506 non-null    float64\n",
      " 9   TAX      506 non-null    float64\n",
      " 10  PTRATIO  506 non-null    float64\n",
      " 11  B        506 non-null    float64\n",
      " 12  LSTAT    506 non-null    float64\n",
      " 13  PRICE    506 non-null    float64\n",
      "dtypes: float64(14)\n",
      "memory usage: 55.5 KB\n"
     ]
    }
   ],
   "source": [
    "data.info()"
   ]
  },
  {
   "cell_type": "markdown",
   "id": "8d79f347",
   "metadata": {},
   "source": [
    "# Visualisation de la distribution de la variable"
   ]
  },
  {
   "cell_type": "code",
   "execution_count": 114,
   "id": "c2eefb4d",
   "metadata": {},
   "outputs": [
    {
     "name": "stderr",
     "output_type": "stream",
     "text": [
      "C:\\Users\\DAMESSE\\anaconda3\\lib\\site-packages\\seaborn\\distributions.py:2619: FutureWarning: `distplot` is a deprecated function and will be removed in a future version. Please adapt your code to use either `displot` (a figure-level function with similar flexibility) or `histplot` (an axes-level function for histograms).\n",
      "  warnings.warn(msg, FutureWarning)\n"
     ]
    },
    {
     "data": {
      "text/plain": [
       "<AxesSubplot:xlabel='PRICE', ylabel='Density'>"
      ]
     },
     "execution_count": 114,
     "metadata": {},
     "output_type": "execute_result"
    },
    {
     "data": {
      "image/png": "[encoded data removed]",
      "text/plain": [
       "<Figure size 432x288 with 1 Axes>"
      ]
     },
     "metadata": {
      "needs_background": "light"
     },
     "output_type": "display_data"
    }
   ],
   "source": [
    "import seaborn as sns\n",
    "sns.distplot(data.PRICE)"
   ]
  },
  {
   "cell_type": "markdown",
   "id": "55ac9ebd",
   "metadata": {},
   "source": [
    "# Deuxieme forme de distribution"
   ]
  },
  {
   "cell_type": "code",
   "execution_count": 115,
   "id": "acadde73",
   "metadata": {},
   "outputs": [
    {
     "name": "stderr",
     "output_type": "stream",
     "text": [
      "C:\\Users\\DAMESSE\\anaconda3\\lib\\site-packages\\seaborn\\_decorators.py:36: FutureWarning: Pass the following variable as a keyword arg: x. From version 0.12, the only valid positional argument will be `data`, and passing other arguments without an explicit keyword will result in an error or misinterpretation.\n",
      "  warnings.warn(\n"
     ]
    },
    {
     "data": {
      "text/plain": [
       "<AxesSubplot:xlabel='PRICE'>"
      ]
     },
     "execution_count": 115,
     "metadata": {},
     "output_type": "execute_result"
    },
    {
     "data": {
      "image/png": "[encoded data removed]",
      "text/plain": [
       "<Figure size 432x288 with 1 Axes>"
      ]
     },
     "metadata": {
      "needs_background": "light"
     },
     "output_type": "display_data"
    }
   ],
   "source": [
    "sns.boxplot(data.PRICE)"
   ]
  },
  {
   "cell_type": "markdown",
   "id": "4dc99e88",
   "metadata": {},
   "source": [
    "# Correlation entre les données"
   ]
  },
  {
   "cell_type": "code",
   "execution_count": 116,
   "id": "9c1399d2",
   "metadata": {},
   "outputs": [
    {
     "data": {
      "text/plain": [
       "CRIM      -0.388305\n",
       "ZN         0.360445\n",
       "INDUS     -0.483725\n",
       "CHAS       0.175260\n",
       "NOX       -0.427321\n",
       "RM         0.695360\n",
       "AGE       -0.376955\n",
       "DIS        0.249929\n",
       "RAD       -0.381626\n",
       "TAX       -0.468536\n",
       "PTRATIO   -0.507787\n",
       "B          0.333461\n",
       "LSTAT     -0.737663\n",
       "PRICE      1.000000\n",
       "Name: PRICE, dtype: float64"
      ]
     },
     "execution_count": 116,
     "metadata": {},
     "output_type": "execute_result"
    }
   ],
   "source": [
    " correlation = data.corr()\n",
    "correlation.loc['PRICE']"
   ]
  },
  {
   "cell_type": "markdown",
   "id": "4f444673",
   "metadata": {},
   "source": [
    "# Visualisation de la Correlation"
   ]
  },
  {
   "cell_type": "code",
   "execution_count": 117,
   "id": "23374b7d",
   "metadata": {},
   "outputs": [
    {
     "data": {
      "text/plain": [
       "<AxesSubplot:>"
      ]
     },
     "execution_count": 117,
     "metadata": {},
     "output_type": "execute_result"
    },
    {
     "data": {
      "image/png": "[encoded data removed]",
      "text/plain": [
       "<Figure size 1080x864 with 2 Axes>"
      ]
     },
     "metadata": {
      "needs_background": "light"
     },
     "output_type": "display_data"
    }
   ],
   "source": [
    "import matplotlib.pyplot as plt\n",
    "fig,axes = plt.subplots(figsize=(15,12))\n",
    "sns.heatmap(correlation,square = True,annot = True)"
   ]
  },
  {
   "cell_type": "markdown",
   "id": "e4a29538",
   "metadata": {},
   "source": [
    "# Visualisation des Scatters "
   ]
  },
  {
   "cell_type": "code",
   "execution_count": 118,
   "id": "e404a7ba",
   "metadata": {},
   "outputs": [
    {
     "data": {
      "image/png": "[encoded data removed]",
      "text/plain": [
       "<Figure size 1440x360 with 3 Axes>"
      ]
     },
     "metadata": {
      "needs_background": "light"
     },
     "output_type": "display_data"
    }
   ],
   "source": [
    "plt.figure(figsize = (20,5))\n",
    "features = ['LSTAT','RM','PTRATIO']\n",
    "for i, col in enumerate(features):\n",
    "    plt.subplot(1, len(features) , i+1)\n",
    "    x = data[col]\n",
    "    y = data.PRICE\n",
    "    plt.scatter(x, y, marker='o')\n",
    "    plt.title(\"Variation in House prices\")\n",
    "    plt.xlabel(col)\n",
    "    plt.ylabel('\"House prices in $1000\"')"
   ]
  },
  {
   "cell_type": "code",
   "execution_count": 119,
   "id": "d31e8a76",
   "metadata": {},
   "outputs": [],
   "source": [
    "X = data.iloc[:,:-1]\n",
    "y= data.PRICE"
   ]
  },
  {
   "cell_type": "markdown",
   "id": "79fbadbf",
   "metadata": {},
   "source": [
    "# Fractionnement du dataset en train pour entrainer le modèle "
   ]
  },
  {
   "cell_type": "code",
   "execution_count": 120,
   "id": "cf8c91fc",
   "metadata": {},
   "outputs": [],
   "source": [
    "from sklearn.model_selection import train_test_split\n",
    "X_train, X_test, y_train, y_test = train_test_split(X,y, test_size = 0.2, random_state = 4)"
   ]
  },
  {
   "cell_type": "markdown",
   "id": "f019755b",
   "metadata": {},
   "source": [
    "# Regression Linéaire"
   ]
  },
  {
   "cell_type": "code",
   "execution_count": 121,
   "id": "28325b96",
   "metadata": {},
   "outputs": [],
   "source": [
    "from sklearn.linear_model import LinearRegression\n",
    "regressor = LinearRegression()"
   ]
  },
  {
   "cell_type": "code",
   "execution_count": 122,
   "id": "fcae9282",
   "metadata": {},
   "outputs": [
    {
     "data": {
      "text/plain": [
       "LinearRegression()"
      ]
     },
     "execution_count": 122,
     "metadata": {},
     "output_type": "execute_result"
    }
   ],
   "source": [
    "regressor.fit(X_train,y_train)"
   ]
  },
  {
   "cell_type": "markdown",
   "id": "af925872",
   "metadata": {},
   "source": [
    "# Prédiction avec le Modèle"
   ]
  },
  {
   "cell_type": "code",
   "execution_count": 123,
   "id": "fc5c78d2",
   "metadata": {},
   "outputs": [],
   "source": [
    "y_pred = regressor.predict(X_test)"
   ]
  },
  {
   "cell_type": "markdown",
   "id": "a4a32890",
   "metadata": {},
   "source": [
    "# Prédiction RMSE du Test set"
   ]
  },
  {
   "cell_type": "code",
   "execution_count": 124,
   "id": "73b07229",
   "metadata": {},
   "outputs": [
    {
     "name": "stdout",
     "output_type": "stream",
     "text": [
      "5.041784121402051\n"
     ]
    }
   ],
   "source": [
    "from sklearn.metrics import mean_squared_error\n",
    "rmse = (np.sqrt(mean_squared_error(y_test, y_pred)))\n",
    "print(rmse)"
   ]
  },
  {
   "cell_type": "code",
   "execution_count": 125,
   "id": "026848e1",
   "metadata": {},
   "outputs": [
    {
     "name": "stdout",
     "output_type": "stream",
     "text": [
      "0.7263451459702509\n"
     ]
    }
   ],
   "source": [
    "from sklearn.metrics import r2_score\n",
    "r2 = r2_score(y_test, y_pred)\n",
    "print(r2)"
   ]
  },
  {
   "cell_type": "markdown",
   "id": "4470f211",
   "metadata": {},
   "source": [
    "# Mise à l'echelle du dataset"
   ]
  },
  {
   "cell_type": "code",
   "execution_count": 126,
   "id": "3d8a3a91",
   "metadata": {},
   "outputs": [],
   "source": [
    "\n",
    "from sklearn.preprocessing import StandardScaler\n",
    "sc = StandardScaler()\n",
    "X_train = sc.fit_transform(X_train)\n",
    "X_test = sc.transform(X_test)"
   ]
  },
  {
   "cell_type": "markdown",
   "id": "529da0db",
   "metadata": {},
   "source": [
    "# Creation du model de reseau de neurone"
   ]
  },
  {
   "cell_type": "code",
   "execution_count": 139,
   "id": "27619f39",
   "metadata": {},
   "outputs": [
    {
     "name": "stdout",
     "output_type": "stream",
     "text": [
      "Model: \"sequential_11\"\n",
      "_________________________________________________________________\n",
      " Layer (type)                Output Shape              Param #   \n",
      "=================================================================\n",
      " dense_35 (Dense)            (None, 3)                 9         \n",
      "                                                                 \n",
      " dense_36 (Dense)            (None, 1)                 4         \n",
      "                                                                 \n",
      "=================================================================\n",
      "Total params: 13\n",
      "Trainable params: 13\n",
      "Non-trainable params: 0\n",
      "_________________________________________________________________\n"
     ]
    }
   ],
   "source": [
    "#Architecture du réseau\n",
    "modele = Sequential()\n",
    "#Couches de neurones\n",
    "modele.add(Dense(3,input_dim=2,activation='sigmoid'))\n",
    "modele.add(Dense(1,activation='sigmoid'))\n",
    "model.add(Dense(1))\n",
    "model.compile(optimizer = 'adam',loss = 'mean_squared_error')\n",
    "modele.summary()"
   ]
  },
  {
   "cell_type": "code",
   "execution_count": 140,
   "id": "24c7db2b",
   "metadata": {},
   "outputs": [],
   "source": [
    "#Couche 1\n",
    "coeff=np.array([[1,3,-5],[2,-4,-6]])\n",
    "biais=np.array([1,0,1])\n",
    "poids=[coeff,biais]\n",
    "modele.layers[0].set_weights(poids)\n",
    "\n",
    "#Couche 2\n",
    "coeff=np.array([[1],[1],[1]])\n",
    "biais=np.array([-3])\n",
    "poids=[coeff,biais]\n",
    "modele.layers[1].set_weights(poids)"
   ]
  },
  {
   "cell_type": "markdown",
   "id": "001d1c58",
   "metadata": {},
   "source": [
    "# Compilation du modele"
   ]
  },
  {
   "cell_type": "code",
   "execution_count": 141,
   "id": "ae7d6759",
   "metadata": {},
   "outputs": [
    {
     "name": "stdout",
     "output_type": "stream",
     "text": [
      "Epoch 1/100\n",
      "13/13 [==============================] - 11s 16ms/step - loss: 214.4173\n",
      "Epoch 2/100\n",
      "13/13 [==============================] - 0s 17ms/step - loss: 47.6807\n",
      "Epoch 3/100\n",
      "13/13 [==============================] - 0s 15ms/step - loss: 20.1649\n",
      "Epoch 4/100\n",
      "13/13 [==============================] - 0s 15ms/step - loss: 11.2181\n",
      "Epoch 5/100\n",
      "13/13 [==============================] - 0s 15ms/step - loss: 9.8463\n",
      "Epoch 6/100\n",
      "13/13 [==============================] - 0s 15ms/step - loss: 8.5950\n",
      "Epoch 7/100\n",
      "13/13 [==============================] - 0s 16ms/step - loss: 7.8600\n",
      "Epoch 8/100\n",
      "13/13 [==============================] - 0s 17ms/step - loss: 7.4380\n",
      "Epoch 9/100\n",
      "13/13 [==============================] - 0s 15ms/step - loss: 7.1461\n",
      "Epoch 10/100\n",
      "13/13 [==============================] - 0s 16ms/step - loss: 6.7960\n",
      "Epoch 11/100\n",
      "13/13 [==============================] - 0s 18ms/step - loss: 6.6541\n",
      "Epoch 12/100\n",
      "13/13 [==============================] - 0s 17ms/step - loss: 6.4128\n",
      "Epoch 13/100\n",
      "13/13 [==============================] - 0s 20ms/step - loss: 6.2813\n",
      "Epoch 14/100\n",
      "13/13 [==============================] - 0s 20ms/step - loss: 6.0669\n",
      "Epoch 15/100\n",
      "13/13 [==============================] - 0s 17ms/step - loss: 6.0450\n",
      "Epoch 16/100\n",
      "13/13 [==============================] - 0s 16ms/step - loss: 5.8672\n",
      "Epoch 17/100\n",
      "13/13 [==============================] - 0s 15ms/step - loss: 5.7896\n",
      "Epoch 18/100\n",
      "13/13 [==============================] - 0s 16ms/step - loss: 5.6570\n",
      "Epoch 19/100\n",
      "13/13 [==============================] - 0s 14ms/step - loss: 5.6207\n",
      "Epoch 20/100\n",
      "13/13 [==============================] - 0s 17ms/step - loss: 5.5473\n",
      "Epoch 21/100\n",
      "13/13 [==============================] - 0s 14ms/step - loss: 5.2863\n",
      "Epoch 22/100\n",
      "13/13 [==============================] - 0s 17ms/step - loss: 5.2260\n",
      "Epoch 23/100\n",
      "13/13 [==============================] - 0s 15ms/step - loss: 5.2373\n",
      "Epoch 24/100\n",
      "13/13 [==============================] - 0s 19ms/step - loss: 5.1027\n",
      "Epoch 25/100\n",
      "13/13 [==============================] - 0s 22ms/step - loss: 4.9895\n",
      "Epoch 26/100\n",
      "13/13 [==============================] - 0s 18ms/step - loss: 4.8642\n",
      "Epoch 27/100\n",
      "13/13 [==============================] - 0s 18ms/step - loss: 4.9529\n",
      "Epoch 28/100\n",
      "13/13 [==============================] - 0s 19ms/step - loss: 4.8460\n",
      "Epoch 29/100\n",
      "13/13 [==============================] - 0s 20ms/step - loss: 4.8082\n",
      "Epoch 30/100\n",
      "13/13 [==============================] - 0s 18ms/step - loss: 4.6495\n",
      "Epoch 31/100\n",
      "13/13 [==============================] - 0s 19ms/step - loss: 4.6569\n",
      "Epoch 32/100\n",
      "13/13 [==============================] - 0s 15ms/step - loss: 4.5005\n",
      "Epoch 33/100\n",
      "13/13 [==============================] - 0s 17ms/step - loss: 4.4618\n",
      "Epoch 34/100\n",
      "13/13 [==============================] - 0s 18ms/step - loss: 4.5416\n",
      "Epoch 35/100\n",
      "13/13 [==============================] - 0s 16ms/step - loss: 4.5250\n",
      "Epoch 36/100\n",
      "13/13 [==============================] - 0s 16ms/step - loss: 4.3174\n",
      "Epoch 37/100\n",
      "13/13 [==============================] - 0s 24ms/step - loss: 4.4618\n",
      "Epoch 38/100\n",
      "13/13 [==============================] - 0s 24ms/step - loss: 4.3145\n",
      "Epoch 39/100\n",
      "13/13 [==============================] - 0s 17ms/step - loss: 4.1449\n",
      "Epoch 40/100\n",
      "13/13 [==============================] - 0s 19ms/step - loss: 4.2371\n",
      "Epoch 41/100\n",
      "13/13 [==============================] - 0s 17ms/step - loss: 4.0825\n",
      "Epoch 42/100\n",
      "13/13 [==============================] - 0s 17ms/step - loss: 4.1010\n",
      "Epoch 43/100\n",
      "13/13 [==============================] - 0s 18ms/step - loss: 4.2137\n",
      "Epoch 44/100\n",
      "13/13 [==============================] - 0s 18ms/step - loss: 4.1271\n",
      "Epoch 45/100\n",
      "13/13 [==============================] - 0s 19ms/step - loss: 4.1919\n",
      "Epoch 46/100\n",
      "13/13 [==============================] - 0s 16ms/step - loss: 3.8353\n",
      "Epoch 47/100\n",
      "13/13 [==============================] - 0s 13ms/step - loss: 4.2340\n",
      "Epoch 48/100\n",
      "13/13 [==============================] - 0s 16ms/step - loss: 3.9638\n",
      "Epoch 49/100\n",
      "13/13 [==============================] - 0s 16ms/step - loss: 3.8643\n",
      "Epoch 50/100\n",
      "13/13 [==============================] - 0s 16ms/step - loss: 3.7890\n",
      "Epoch 51/100\n",
      "13/13 [==============================] - 0s 16ms/step - loss: 3.7145\n",
      "Epoch 52/100\n",
      "13/13 [==============================] - 0s 19ms/step - loss: 3.7334\n",
      "Epoch 53/100\n",
      "13/13 [==============================] - 0s 16ms/step - loss: 3.9036\n",
      "Epoch 54/100\n",
      "13/13 [==============================] - 0s 13ms/step - loss: 3.7633\n",
      "Epoch 55/100\n",
      "13/13 [==============================] - 0s 13ms/step - loss: 3.6264\n",
      "Epoch 56/100\n",
      "13/13 [==============================] - 0s 14ms/step - loss: 4.1956\n",
      "Epoch 57/100\n",
      "13/13 [==============================] - 0s 15ms/step - loss: 3.6511\n",
      "Epoch 58/100\n",
      "13/13 [==============================] - 0s 13ms/step - loss: 3.5724\n",
      "Epoch 59/100\n",
      "13/13 [==============================] - 0s 14ms/step - loss: 3.5647\n",
      "Epoch 60/100\n",
      "13/13 [==============================] - 0s 15ms/step - loss: 3.5273\n",
      "Epoch 61/100\n",
      "13/13 [==============================] - 0s 13ms/step - loss: 3.5595\n",
      "Epoch 62/100\n",
      "13/13 [==============================] - 0s 17ms/step - loss: 3.3768\n",
      "Epoch 63/100\n",
      "13/13 [==============================] - 0s 17ms/step - loss: 3.3564\n",
      "Epoch 64/100\n",
      "13/13 [==============================] - 0s 16ms/step - loss: 3.3179\n",
      "Epoch 65/100\n",
      "13/13 [==============================] - 0s 16ms/step - loss: 3.5716\n",
      "Epoch 66/100\n",
      "13/13 [==============================] - 0s 17ms/step - loss: 3.4300\n",
      "Epoch 67/100\n",
      "13/13 [==============================] - 0s 15ms/step - loss: 3.3346\n",
      "Epoch 68/100\n",
      "13/13 [==============================] - 0s 17ms/step - loss: 3.3946\n",
      "Epoch 69/100\n",
      "13/13 [==============================] - 0s 16ms/step - loss: 3.3047\n",
      "Epoch 70/100\n",
      "13/13 [==============================] - 0s 16ms/step - loss: 3.2914\n",
      "Epoch 71/100\n",
      "13/13 [==============================] - 0s 16ms/step - loss: 3.2121\n",
      "Epoch 72/100\n",
      "13/13 [==============================] - 0s 19ms/step - loss: 3.5191\n",
      "Epoch 73/100\n",
      "13/13 [==============================] - 0s 17ms/step - loss: 3.3024\n",
      "Epoch 74/100\n",
      "13/13 [==============================] - 0s 18ms/step - loss: 3.2177\n",
      "Epoch 75/100\n",
      "13/13 [==============================] - 0s 17ms/step - loss: 3.2479\n",
      "Epoch 76/100\n",
      "13/13 [==============================] - 0s 17ms/step - loss: 3.2439\n",
      "Epoch 77/100\n",
      "13/13 [==============================] - 0s 16ms/step - loss: 3.3461\n",
      "Epoch 78/100\n",
      "13/13 [==============================] - 0s 15ms/step - loss: 2.9813\n",
      "Epoch 79/100\n",
      "13/13 [==============================] - 0s 19ms/step - loss: 3.1131\n",
      "Epoch 80/100\n",
      "13/13 [==============================] - 0s 24ms/step - loss: 3.0842\n",
      "Epoch 81/100\n",
      "13/13 [==============================] - 0s 17ms/step - loss: 3.0682\n",
      "Epoch 82/100\n",
      "13/13 [==============================] - 0s 23ms/step - loss: 2.9162\n",
      "Epoch 83/100\n",
      "13/13 [==============================] - 0s 18ms/step - loss: 3.1638\n",
      "Epoch 84/100\n",
      "13/13 [==============================] - 0s 17ms/step - loss: 3.4266\n",
      "Epoch 85/100\n",
      "13/13 [==============================] - 0s 16ms/step - loss: 3.2817\n",
      "Epoch 86/100\n",
      "13/13 [==============================] - 0s 20ms/step - loss: 3.6035\n",
      "Epoch 87/100\n",
      "13/13 [==============================] - 0s 18ms/step - loss: 3.5067\n",
      "Epoch 88/100\n",
      "13/13 [==============================] - 0s 17ms/step - loss: 3.1158\n",
      "Epoch 89/100\n",
      "13/13 [==============================] - 0s 20ms/step - loss: 3.1113\n",
      "Epoch 90/100\n",
      "13/13 [==============================] - 0s 16ms/step - loss: 2.9282\n",
      "Epoch 91/100\n",
      "13/13 [==============================] - 0s 13ms/step - loss: 2.7397\n",
      "Epoch 92/100\n",
      "13/13 [==============================] - 0s 15ms/step - loss: 2.7538\n",
      "Epoch 93/100\n",
      "13/13 [==============================] - 0s 18ms/step - loss: 2.7649\n",
      "Epoch 94/100\n",
      "13/13 [==============================] - 0s 16ms/step - loss: 2.7437\n",
      "Epoch 95/100\n",
      "13/13 [==============================] - 0s 17ms/step - loss: 2.8266\n",
      "Epoch 96/100\n",
      "13/13 [==============================] - 0s 18ms/step - loss: 2.7415\n",
      "Epoch 97/100\n",
      "13/13 [==============================] - 0s 18ms/step - loss: 2.7465\n",
      "Epoch 98/100\n",
      "13/13 [==============================] - 0s 19ms/step - loss: 2.6094\n",
      "Epoch 99/100\n",
      "13/13 [==============================] - 0s 17ms/step - loss: 2.7430\n",
      "Epoch 100/100\n",
      "13/13 [==============================] - 0s 14ms/step - loss: 2.5340\n"
     ]
    },
    {
     "data": {
      "text/plain": [
       "<keras.callbacks.History at 0x17737c9de50>"
      ]
     },
     "execution_count": 141,
     "metadata": {},
     "output_type": "execute_result"
    }
   ],
   "source": [
    "model.fit(X_train, y_train, epochs = 100)"
   ]
  },
  {
   "cell_type": "code",
   "execution_count": 142,
   "id": "4536d494",
   "metadata": {},
   "outputs": [
    {
     "name": "stdout",
     "output_type": "stream",
     "text": [
      "4/4 [==============================] - 1s 12ms/step\n"
     ]
    }
   ],
   "source": [
    "y_pred = model.predict(X_test)"
   ]
  },
  {
   "cell_type": "code",
   "execution_count": 144,
   "id": "8a4e1d67",
   "metadata": {},
   "outputs": [
    {
     "name": "stdout",
     "output_type": "stream",
     "text": [
      "0.8791708135757544\n"
     ]
    }
   ],
   "source": [
    "from sklearn.metrics import r2_score\n",
    "r2 = r2_score(y_test, y_pred)\n",
    "print(r2)"
   ]
  },
  {
   "cell_type": "markdown",
   "id": "c664fc58",
   "metadata": {},
   "source": [
    "# Prediction avec RMSE du Test set results"
   ]
  },
  {
   "cell_type": "code",
   "execution_count": 145,
   "id": "a2c011b3",
   "metadata": {},
   "outputs": [
    {
     "name": "stdout",
     "output_type": "stream",
     "text": [
      "3.350183488138223\n"
     ]
    }
   ],
   "source": [
    "from sklearn.metrics import mean_squared_error\n",
    "rmse = (np.sqrt(mean_squared_error(y_test, y_pred)))\n",
    "print(rmse)"
   ]
  },
  {
   "cell_type": "code",
   "execution_count": null,
   "id": "5f9e4a4d",
   "metadata": {},
   "outputs": [],
   "source": []
  },
  {
   "cell_type": "code",
   "execution_count": null,
   "id": "68490173",
   "metadata": {},
   "outputs": [],
   "source": []
  },
  {
   "cell_type": "code",
   "execution_count": 1,
   "id": "16b2e270",
   "metadata": {},
   "outputs": [],
   "source": [
    "import numpy as np\n",
    "import pandas as pd\n",
    "from sklearn.datasets import load_boston \n",
    "import seaborn as sns\n",
    "import matplotlib.pyplot as plt\n",
    "from sklearn.model_selection import train_test_split\n",
    "from sklearn.linear_model import LinearRegression\n",
    "from sklearn.metrics import mean_squared_error\n",
    "\n"
   ]
  },
  {
   "cell_type": "code",
   "execution_count": 7,
   "id": "be6d3448",
   "metadata": {},
   "outputs": [
    {
     "data": {
      "text/html": [
       "<div>\n",
       "<style scoped>\n",
       "    .dataframe tbody tr th:only-of-type {\n",
       "        vertical-align: middle;\n",
       "    }\n",
       "\n",
       "    .dataframe tbody tr th {\n",
       "        vertical-align: top;\n",
       "    }\n",
       "\n",
       "    .dataframe thead th {\n",
       "        text-align: right;\n",
       "    }\n",
       "</style>\n",
       "<table border=\"1\" class=\"dataframe\">\n",
       "  <thead>\n",
       "    <tr style=\"text-align: right;\">\n",
       "      <th></th>\n",
       "      <th>Bandwidth1 [Mbps] - Tx - MAX</th>\n",
       "      <th>Utilization1 [%] - Tx - MAX</th>\n",
       "      <th>Rate1 [Mbps] - Tx - MAX</th>\n",
       "      <th>date</th>\n",
       "    </tr>\n",
       "  </thead>\n",
       "  <tbody>\n",
       "    <tr>\n",
       "      <th>0</th>\n",
       "      <td>152.09</td>\n",
       "      <td>98.16</td>\n",
       "      <td>149.30</td>\n",
       "      <td>01/01/2021</td>\n",
       "    </tr>\n",
       "    <tr>\n",
       "      <th>1</th>\n",
       "      <td>152.09</td>\n",
       "      <td>98.11</td>\n",
       "      <td>149.23</td>\n",
       "      <td>02/01/2021</td>\n",
       "    </tr>\n",
       "    <tr>\n",
       "      <th>2</th>\n",
       "      <td>152.09</td>\n",
       "      <td>98.28</td>\n",
       "      <td>149.48</td>\n",
       "      <td>03/01/2021</td>\n",
       "    </tr>\n",
       "    <tr>\n",
       "      <th>3</th>\n",
       "      <td>152.09</td>\n",
       "      <td>98.80</td>\n",
       "      <td>150.27</td>\n",
       "      <td>04/01/2021</td>\n",
       "    </tr>\n",
       "    <tr>\n",
       "      <th>4</th>\n",
       "      <td>152.09</td>\n",
       "      <td>97.61</td>\n",
       "      <td>148.46</td>\n",
       "      <td>01/02/2021</td>\n",
       "    </tr>\n",
       "    <tr>\n",
       "      <th>...</th>\n",
       "      <td>...</td>\n",
       "      <td>...</td>\n",
       "      <td>...</td>\n",
       "      <td>...</td>\n",
       "    </tr>\n",
       "    <tr>\n",
       "      <th>103</th>\n",
       "      <td>304.38</td>\n",
       "      <td>56.71</td>\n",
       "      <td>172.62</td>\n",
       "      <td>04/02/2023</td>\n",
       "    </tr>\n",
       "    <tr>\n",
       "      <th>104</th>\n",
       "      <td>304.38</td>\n",
       "      <td>59.68</td>\n",
       "      <td>181.67</td>\n",
       "      <td>01/03/2023</td>\n",
       "    </tr>\n",
       "    <tr>\n",
       "      <th>105</th>\n",
       "      <td>304.38</td>\n",
       "      <td>43.64</td>\n",
       "      <td>132.84</td>\n",
       "      <td>02/03/2023</td>\n",
       "    </tr>\n",
       "    <tr>\n",
       "      <th>106</th>\n",
       "      <td>304.38</td>\n",
       "      <td>41.11</td>\n",
       "      <td>125.15</td>\n",
       "      <td>03/03/2023</td>\n",
       "    </tr>\n",
       "    <tr>\n",
       "      <th>107</th>\n",
       "      <td>304.38</td>\n",
       "      <td>51.35</td>\n",
       "      <td>156.31</td>\n",
       "      <td>04/03/2023</td>\n",
       "    </tr>\n",
       "  </tbody>\n",
       "</table>\n",
       "<p>108 rows × 4 columns</p>\n",
       "</div>"
      ],
      "text/plain": [
       "     Bandwidth1 [Mbps] - Tx - MAX  Utilization1 [%] - Tx - MAX  \\\n",
       "0                          152.09                        98.16   \n",
       "1                          152.09                        98.11   \n",
       "2                          152.09                        98.28   \n",
       "3                          152.09                        98.80   \n",
       "4                          152.09                        97.61   \n",
       "..                            ...                          ...   \n",
       "103                        304.38                        56.71   \n",
       "104                        304.38                        59.68   \n",
       "105                        304.38                        43.64   \n",
       "106                        304.38                        41.11   \n",
       "107                        304.38                        51.35   \n",
       "\n",
       "     Rate1 [Mbps] - Tx - MAX        date  \n",
       "0                     149.30  01/01/2021  \n",
       "1                     149.23  02/01/2021  \n",
       "2                     149.48  03/01/2021  \n",
       "3                     150.27  04/01/2021  \n",
       "4                     148.46  01/02/2021  \n",
       "..                       ...         ...  \n",
       "103                   172.62  04/02/2023  \n",
       "104                   181.67  01/03/2023  \n",
       "105                   132.84  02/03/2023  \n",
       "106                   125.15  03/03/2023  \n",
       "107                   156.31  04/03/2023  \n",
       "\n",
       "[108 rows x 4 columns]"
      ]
     },
     "execution_count": 7,
     "metadata": {},
     "output_type": "execute_result"
    }
   ],
   "source": [
    "df = pd.read_csv(\"lien3.csv\", sep=';')\n",
    "df"
   ]
  },
  {
   "cell_type": "code",
   "execution_count": 8,
   "id": "02132cb4",
   "metadata": {},
   "outputs": [
    {
     "data": {
      "text/plain": [
       "Index(['Bandwidth1 [Mbps] - Tx - MAX', 'Utilization1 [%] - Tx - MAX',\n",
       "       'Rate1 [Mbps] - Tx - MAX', 'date'],\n",
       "      dtype='object')"
      ]
     },
     "execution_count": 8,
     "metadata": {},
     "output_type": "execute_result"
    }
   ],
   "source": [
    "df.columns"
   ]
  },
  {
   "cell_type": "code",
   "execution_count": 9,
   "id": "35eb6779",
   "metadata": {},
   "outputs": [
    {
     "data": {
      "text/html": [
       "<div>\n",
       "<style scoped>\n",
       "    .dataframe tbody tr th:only-of-type {\n",
       "        vertical-align: middle;\n",
       "    }\n",
       "\n",
       "    .dataframe tbody tr th {\n",
       "        vertical-align: top;\n",
       "    }\n",
       "\n",
       "    .dataframe thead th {\n",
       "        text-align: right;\n",
       "    }\n",
       "</style>\n",
       "<table border=\"1\" class=\"dataframe\">\n",
       "  <thead>\n",
       "    <tr style=\"text-align: right;\">\n",
       "      <th></th>\n",
       "      <th>Bandwidth1 [Mbps] - Tx - MAX</th>\n",
       "      <th>Utilization1 [%] - Tx - MAX</th>\n",
       "      <th>Rate1 [Mbps] - Tx - MAX</th>\n",
       "      <th>date</th>\n",
       "    </tr>\n",
       "  </thead>\n",
       "  <tbody>\n",
       "    <tr>\n",
       "      <th>0</th>\n",
       "      <td>152.09</td>\n",
       "      <td>98.16</td>\n",
       "      <td>149.30</td>\n",
       "      <td>01/01/2021</td>\n",
       "    </tr>\n",
       "    <tr>\n",
       "      <th>1</th>\n",
       "      <td>152.09</td>\n",
       "      <td>98.11</td>\n",
       "      <td>149.23</td>\n",
       "      <td>02/01/2021</td>\n",
       "    </tr>\n",
       "    <tr>\n",
       "      <th>2</th>\n",
       "      <td>152.09</td>\n",
       "      <td>98.28</td>\n",
       "      <td>149.48</td>\n",
       "      <td>03/01/2021</td>\n",
       "    </tr>\n",
       "    <tr>\n",
       "      <th>3</th>\n",
       "      <td>152.09</td>\n",
       "      <td>98.80</td>\n",
       "      <td>150.27</td>\n",
       "      <td>04/01/2021</td>\n",
       "    </tr>\n",
       "    <tr>\n",
       "      <th>4</th>\n",
       "      <td>152.09</td>\n",
       "      <td>97.61</td>\n",
       "      <td>148.46</td>\n",
       "      <td>01/02/2021</td>\n",
       "    </tr>\n",
       "  </tbody>\n",
       "</table>\n",
       "</div>"
      ],
      "text/plain": [
       "   Bandwidth1 [Mbps] - Tx - MAX  Utilization1 [%] - Tx - MAX  \\\n",
       "0                        152.09                        98.16   \n",
       "1                        152.09                        98.11   \n",
       "2                        152.09                        98.28   \n",
       "3                        152.09                        98.80   \n",
       "4                        152.09                        97.61   \n",
       "\n",
       "   Rate1 [Mbps] - Tx - MAX        date  \n",
       "0                   149.30  01/01/2021  \n",
       "1                   149.23  02/01/2021  \n",
       "2                   149.48  03/01/2021  \n",
       "3                   150.27  04/01/2021  \n",
       "4                   148.46  01/02/2021  "
      ]
     },
     "execution_count": 9,
     "metadata": {},
     "output_type": "execute_result"
    }
   ],
   "source": [
    "df.head()"
   ]
  },
  {
   "cell_type": "code",
   "execution_count": 18,
   "id": "90b6f70d",
   "metadata": {},
   "outputs": [
    {
     "ename": "SyntaxError",
     "evalue": "invalid syntax (882365072.py, line 4)",
     "output_type": "error",
     "traceback": [
      "\u001b[1;36m  Input \u001b[1;32mIn [18]\u001b[1;36m\u001b[0m\n\u001b[1;33m    m = len(df.index) train_end = int(train_percent * m)\u001b[0m\n\u001b[1;37m                      ^\u001b[0m\n\u001b[1;31mSyntaxError\u001b[0m\u001b[1;31m:\u001b[0m invalid syntax\n"
     ]
    }
   ],
   "source": [
    "def train_validate_test_split(df, train_percent=.6, validate_percent=.2, seed=None):\n",
    "    np.random.seed(seed)\n",
    "    perm = np.random.permutation(df.index) \n",
    "    m = len(df.index) train_end = int(train_percent * m)\n",
    "    validate_end = int(validate_percent * m) + train_end \n",
    "    train = df.iloc[perm[:train_end]]\n",
    "    validate = df.iloc[perm[train_end:validate_end]] \n",
    "    test = df.iloc[perm[validate_end:]] \n",
    "    return train, validate, test\n",
    "\n"
   ]
  },
  {
   "cell_type": "code",
   "execution_count": null,
   "id": "f5666537",
   "metadata": {},
   "outputs": [],
   "source": []
  },
  {
   "cell_type": "code",
   "execution_count": null,
   "id": "bdb000c2",
   "metadata": {},
   "outputs": [],
   "source": []
  },
  {
   "cell_type": "code",
   "execution_count": null,
   "id": "4b11f299",
   "metadata": {},
   "outputs": [],
   "source": []
  },
  {
   "cell_type": "code",
   "execution_count": null,
   "id": "f7f17808",
   "metadata": {},
   "outputs": [],
   "source": []
  },
  {
   "cell_type": "code",
   "execution_count": null,
   "id": "02282c35",
   "metadata": {},
   "outputs": [],
   "source": []
  },
  {
   "cell_type": "code",
   "execution_count": null,
   "id": "a42c9916",
   "metadata": {},
   "outputs": [],
   "source": []
  },
  {
   "cell_type": "code",
   "execution_count": null,
   "id": "e4040d89",
   "metadata": {},
   "outputs": [],
   "source": []
  },
  {
   "cell_type": "code",
   "execution_count": null,
   "id": "35adefa7",
   "metadata": {},
   "outputs": [],
   "source": []
  },
  {
   "cell_type": "code",
   "execution_count": 11,
   "id": "26350343",
   "metadata": {},
   "outputs": [
    {
     "ename": "IndentationError",
     "evalue": "unexpected indent (3492308746.py, line 2)",
     "output_type": "error",
     "traceback": [
      "\u001b[1;36m  Input \u001b[1;32mIn [11]\u001b[1;36m\u001b[0m\n\u001b[1;33m    file=open(\"lien3.csv\",\"r\")\u001b[0m\n\u001b[1;37m    ^\u001b[0m\n\u001b[1;31mIndentationError\u001b[0m\u001b[1;31m:\u001b[0m unexpected indent\n"
     ]
    }
   ],
   "source": [
    "import random\n",
    " file = open(\"lien3.csv\",\"r\")\n",
    " data=list()\n",
    " for line in file:\n",
    "    data.append(line.split(#your preferred delimiter))\n",
    " file.close()\n",
    " random.shuffle(data)\n",
    " train_data = data[:int((len(data)+1)*.80)] #Remaining 80% to training set\n",
    " test_data = data[int(len(data)*.80+1):] #Splits 20% data to test set"
   ]
  },
  {
   "cell_type": "code",
   "execution_count": 10,
   "id": "28269b24",
   "metadata": {},
   "outputs": [
    {
     "ename": "AttributeError",
     "evalue": "'DataFrame' object has no attribute 'feature_names'",
     "output_type": "error",
     "traceback": [
      "\u001b[1;31m---------------------------------------------------------------------------\u001b[0m",
      "\u001b[1;31mAttributeError\u001b[0m                            Traceback (most recent call last)",
      "Input \u001b[1;32mIn [10]\u001b[0m, in \u001b[0;36m<cell line: 1>\u001b[1;34m()\u001b[0m\n\u001b[1;32m----> 1\u001b[0m df\u001b[38;5;241m.\u001b[39mcolumns \u001b[38;5;241m=\u001b[39m \u001b[43mdf\u001b[49m\u001b[38;5;241;43m.\u001b[39;49m\u001b[43mfeature_names\u001b[49m\n",
      "File \u001b[1;32m~\\anaconda3\\lib\\site-packages\\pandas\\core\\generic.py:5575\u001b[0m, in \u001b[0;36mNDFrame.__getattr__\u001b[1;34m(self, name)\u001b[0m\n\u001b[0;32m   5568\u001b[0m \u001b[38;5;28;01mif\u001b[39;00m (\n\u001b[0;32m   5569\u001b[0m     name \u001b[38;5;129;01mnot\u001b[39;00m \u001b[38;5;129;01min\u001b[39;00m \u001b[38;5;28mself\u001b[39m\u001b[38;5;241m.\u001b[39m_internal_names_set\n\u001b[0;32m   5570\u001b[0m     \u001b[38;5;129;01mand\u001b[39;00m name \u001b[38;5;129;01mnot\u001b[39;00m \u001b[38;5;129;01min\u001b[39;00m \u001b[38;5;28mself\u001b[39m\u001b[38;5;241m.\u001b[39m_metadata\n\u001b[0;32m   5571\u001b[0m     \u001b[38;5;129;01mand\u001b[39;00m name \u001b[38;5;129;01mnot\u001b[39;00m \u001b[38;5;129;01min\u001b[39;00m \u001b[38;5;28mself\u001b[39m\u001b[38;5;241m.\u001b[39m_accessors\n\u001b[0;32m   5572\u001b[0m     \u001b[38;5;129;01mand\u001b[39;00m \u001b[38;5;28mself\u001b[39m\u001b[38;5;241m.\u001b[39m_info_axis\u001b[38;5;241m.\u001b[39m_can_hold_identifiers_and_holds_name(name)\n\u001b[0;32m   5573\u001b[0m ):\n\u001b[0;32m   5574\u001b[0m     \u001b[38;5;28;01mreturn\u001b[39;00m \u001b[38;5;28mself\u001b[39m[name]\n\u001b[1;32m-> 5575\u001b[0m \u001b[38;5;28;01mreturn\u001b[39;00m \u001b[38;5;28;43mobject\u001b[39;49m\u001b[38;5;241;43m.\u001b[39;49m\u001b[38;5;21;43m__getattribute__\u001b[39;49m\u001b[43m(\u001b[49m\u001b[38;5;28;43mself\u001b[39;49m\u001b[43m,\u001b[49m\u001b[43m \u001b[49m\u001b[43mname\u001b[49m\u001b[43m)\u001b[49m\n",
      "\u001b[1;31mAttributeError\u001b[0m: 'DataFrame' object has no attribute 'feature_names'"
     ]
    }
   ],
   "source": [
    "df.columns = df.feature_names"
   ]
  },
  {
   "cell_type": "code",
   "execution_count": null,
   "id": "5ea45bfe",
   "metadata": {},
   "outputs": [],
   "source": []
  },
  {
   "cell_type": "code",
   "execution_count": null,
   "id": "c0988ce6",
   "metadata": {},
   "outputs": [],
   "source": []
  },
  {
   "cell_type": "code",
   "execution_count": null,
   "id": "e370f77e",
   "metadata": {},
   "outputs": [],
   "source": []
  },
  {
   "cell_type": "code",
   "execution_count": null,
   "id": "ad72571d",
   "metadata": {},
   "outputs": [],
   "source": []
  },
  {
   "cell_type": "code",
   "execution_count": null,
   "id": "1285ad10",
   "metadata": {},
   "outputs": [],
   "source": []
  }
 ],
 "metadata": {
  "kernelspec": {
   "display_name": "Python 3 (ipykernel)",
   "language": "python",
   "name": "python3"
  },
  "language_info": {
   "codemirror_mode": {
    "name": "ipython",
    "version": 3
   },
   "file_extension": ".py",
   "mimetype": "text/x-python",
   "name": "python",
   "nbconvert_exporter": "python",
   "pygments_lexer": "ipython3",
   "version": "3.11.3"
  }
 },
 "nbformat": 4,
 "nbformat_minor": 5
}
